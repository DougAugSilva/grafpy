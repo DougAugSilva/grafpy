{
 "cells": [
  {
   "cell_type": "markdown",
   "id": "10f3946a",
   "metadata": {},
   "source": [
    "# Testando Funções Criadas"
   ]
  },
  {
   "cell_type": "code",
   "execution_count": null,
   "id": "98bedb5a",
   "metadata": {},
   "outputs": [],
   "source": [
    "from grafpy.2d_plot_functions import soma"
   ]
  },
  {
   "cell_type": "code",
   "execution_count": null,
   "id": "38eed9a1",
   "metadata": {},
   "outputs": [],
   "source": [
    "print(\"HelloWorld\")"
   ]
  }
 ],
 "metadata": {
  "kernelspec": {
   "display_name": "venv",
   "language": "python",
   "name": "python3"
  },
  "language_info": {
   "name": "python",
   "version": "3.12.2"
  }
 },
 "nbformat": 4,
 "nbformat_minor": 5
}
