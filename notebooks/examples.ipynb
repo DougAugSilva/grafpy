{
 "cells": [
  {
   "cell_type": "markdown",
   "id": "10f3946a",
   "metadata": {},
   "source": [
    "# Testando Funções Criadas"
   ]
  },
  {
   "cell_type": "code",
   "execution_count": 15,
   "id": "98bedb5a",
   "metadata": {},
   "outputs": [],
   "source": [
    "from grafpy.plane_plot_functions import soma"
   ]
  },
  {
   "cell_type": "code",
   "execution_count": 17,
   "id": "e5e37ab0",
   "metadata": {},
   "outputs": [
    {
     "data": {
      "text/plain": [
       "7"
      ]
     },
     "execution_count": 17,
     "metadata": {},
     "output_type": "execute_result"
    }
   ],
   "source": [
    "soma(3, 4)"
   ]
  },
  {
   "cell_type": "code",
   "execution_count": 13,
   "id": "38eed9a1",
   "metadata": {},
   "outputs": [
    {
     "name": "stdout",
     "output_type": "stream",
     "text": [
      "HelloWorld\n"
     ]
    }
   ],
   "source": [
    "print(\"HelloWorld\")"
   ]
  },
  {
   "cell_type": "code",
   "execution_count": 12,
   "id": "2f29d894",
   "metadata": {},
   "outputs": [
    {
     "name": "stdout",
     "output_type": "stream",
     "text": [
      "--- Informações de Diagnóstico ---\n",
      "Diretório de Trabalho Atual (CWD): d:\\1 - CODIGOS\\Python\\biblioteca_plot_graficos\\notebooks\n",
      "\n",
      "Python Path (sys.path):\n",
      "- C:\\Users\\D0ugl\\AppData\\Local\\Programs\\Python\\Python312\\python312.zip\n",
      "- C:\\Users\\D0ugl\\AppData\\Local\\Programs\\Python\\Python312\\DLLs\n",
      "- C:\\Users\\D0ugl\\AppData\\Local\\Programs\\Python\\Python312\\Lib\n",
      "- C:\\Users\\D0ugl\\AppData\\Local\\Programs\\Python\\Python312\n",
      "- d:\\1 - CODIGOS\\Python\\biblioteca_plot_graficos\\venv\n",
      "- \n",
      "- d:\\1 - CODIGOS\\Python\\biblioteca_plot_graficos\\venv\\Lib\\site-packages\n",
      "- d:\\1 - CODIGOS\\Python\\biblioteca_plot_graficos\\venv\\Lib\\site-packages\\win32\n",
      "- d:\\1 - CODIGOS\\Python\\biblioteca_plot_graficos\\venv\\Lib\\site-packages\\win32\\lib\n",
      "- d:\\1 - CODIGOS\\Python\\biblioteca_plot_graficos\\venv\\Lib\\site-packages\\Pythonwin\n",
      "- D:\u0001 - CODIGOS\\Pythoiblioteca_plot_graficos\\grafpy\n",
      "- D:\\1 - CODIGOS\\Python\\biblioteca_plot_graficos\\grafpy\n",
      "- D:\\1 - CODIGOS\\Python\\biblioteca_plot_graficos\n",
      "\n",
      "--- Fim do Diagnóstico ---\n",
      "\n",
      "Importação BEM-SUCEDIDA!\n"
     ]
    }
   ],
   "source": [
    "import os\n",
    "import sys\n",
    "\n",
    "print(\"--- Informações de Diagnóstico ---\")\n",
    "\n",
    "# 1. Mostra o diretório de onde o script está sendo executado\n",
    "print(f\"Diretório de Trabalho Atual (CWD): {os.getcwd()}\")\n",
    "\n",
    "# 2. Mostra a lista de caminhos onde o Python procura por módulos\n",
    "print(\"\\nPython Path (sys.path):\")\n",
    "for path in sys.path:\n",
    "    print(f\"- {path}\")\n",
    "\n",
    "print(\"\\n--- Fim do Diagnóstico ---\")\n",
    "\n",
    "# Tente a importação novamente aqui\n",
    "try:\n",
    "    from grafpy.plane_plot_functions import soma\n",
    "    print(\"\\nImportação BEM-SUCEDIDA!\")\n",
    "except ModuleNotFoundError as e:\n",
    "    print(f\"\\nA importação FALHOU. Erro: {e}\")"
   ]
  },
  {
   "cell_type": "code",
   "execution_count": 11,
   "id": "c4887221",
   "metadata": {},
   "outputs": [],
   "source": [
    "import sys\n",
    "sys.path.append('D:\\\\1 - CODIGOS\\\\Python\\\\biblioteca_plot_graficos')"
   ]
  }
 ],
 "metadata": {
  "kernelspec": {
   "display_name": "venv",
   "language": "python",
   "name": "python3"
  },
  "language_info": {
   "codemirror_mode": {
    "name": "ipython",
    "version": 3
   },
   "file_extension": ".py",
   "mimetype": "text/x-python",
   "name": "python",
   "nbconvert_exporter": "python",
   "pygments_lexer": "ipython3",
   "version": "3.12.2"
  }
 },
 "nbformat": 4,
 "nbformat_minor": 5
}
